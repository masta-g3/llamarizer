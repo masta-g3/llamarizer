{
 "cells": [
  {
   "cell_type": "code",
   "execution_count": 98,
   "outputs": [
    {
     "data": {
      "text/plain": "True"
     },
     "execution_count": 98,
     "metadata": {},
     "output_type": "execute_result"
    }
   ],
   "source": [
    "from datasets import Dataset\n",
    "from transformers import CodeLlamaTokenizerFast\n",
    "from tqdm.notebook import tqdm\n",
    "from dotenv import load_dotenv\n",
    "import pandas as pd\n",
    "import json\n",
    "import os\n",
    "\n",
    "load_dotenv()"
   ],
   "metadata": {
    "collapsed": false,
    "ExecuteTime": {
     "end_time": "2023-09-11T04:40:17.647227Z",
     "start_time": "2023-09-11T04:40:17.628295Z"
    }
   },
   "id": "b6ace412e19074d0"
  },
  {
   "cell_type": "code",
   "execution_count": 38,
   "outputs": [],
   "source": [
    "tokenizer = CodeLlamaTokenizerFast.from_pretrained(\"codellama/CodeLlama-13b-hf\")"
   ],
   "metadata": {
    "collapsed": false,
    "ExecuteTime": {
     "end_time": "2023-09-11T01:23:22.362899Z",
     "start_time": "2023-09-11T01:23:22.224048Z"
    }
   },
   "id": "60ab924bcc1e666c"
  },
  {
   "cell_type": "code",
   "execution_count": 17,
   "outputs": [
    {
     "name": "stdout",
     "output_type": "stream",
     "text": [
      "472\n"
     ]
    }
   ],
   "source": [
    "## Input paths.\n",
    "arxiv_path = os.getenv(\"ARXIV_PATH\")\n",
    "summaries_path = os.getenv(\"SUMMARY_PATH\")\n",
    "\n",
    "## Load.\n",
    "arxiv_fnames = os.listdir(arxiv_path)\n",
    "arxiv_fnames = [fname.replace(\".txt\", \"\") for fname in arxiv_fnames]\n",
    "summaries_fnames = os.listdir(summaries_path)\n",
    "summaries_fnames = [fname.replace(\".json\", \"\") for fname in summaries_fnames]\n",
    "\n",
    "## Combine.\n",
    "all_fnames = set(arxiv_fnames).intersection(set(summaries_fnames))\n",
    "print(len(all_fnames))"
   ],
   "metadata": {
    "collapsed": false,
    "ExecuteTime": {
     "end_time": "2023-09-11T01:16:50.474956Z",
     "start_time": "2023-09-11T01:16:50.463806Z"
    }
   },
   "id": "d3de1072bbd5a3a2"
  },
  {
   "cell_type": "code",
   "execution_count": 33,
   "outputs": [],
   "source": [
    "keep_keys = [\n",
    "    'main_contribution',\n",
    "     'takeaways',\n",
    "     'category',\n",
    "     'novelty_analysis',\n",
    "     'novelty_score',\n",
    "     'technical_analysis',\n",
    "     'technical_score',\n",
    "     'enjoyable_analysis',\n",
    "     'enjoyable_score'\n",
    "]"
   ],
   "metadata": {
    "collapsed": false,
    "ExecuteTime": {
     "end_time": "2023-09-11T01:21:29.589030Z",
     "start_time": "2023-09-11T01:21:29.565602Z"
    }
   },
   "id": "92811cf3cdbb341f"
  },
  {
   "cell_type": "code",
   "execution_count": 84,
   "outputs": [
    {
     "data": {
      "text/plain": "  0%|          | 0/472 [00:00<?, ?it/s]",
      "application/vnd.jupyter.widget-view+json": {
       "version_major": 2,
       "version_minor": 0,
       "model_id": "19266f6a44c045e8849132fa8de364cb"
      }
     },
     "metadata": {},
     "output_type": "display_data"
    }
   ],
   "source": [
    "## Create list of input-output pairs.\n",
    "input_output_pairs = []\n",
    "token_lengths = []\n",
    "string_lengths = []\n",
    "\n",
    "for fname in tqdm(all_fnames):\n",
    "    ## Loaders.\n",
    "    input_text = open(f\"{arxiv_path}/{fname}.txt\", \"r\").read()\n",
    "    input_text = input_text[:25000 * 3]\n",
    "    output_json = open(f\"{summaries_path}/{fname}.json\", \"r\").read()\n",
    "    output_json = json.loads(output_json)\n",
    "    summary_text = output_json[\"Summary\"]\n",
    "    output_json = {k: output_json[k] for k in keep_keys}\n",
    "    output_text = json.dumps(output_json, indent=4)\n",
    "        \n",
    "    ## Token count and limit.\n",
    "    input_tokens = len(tokenizer.tokenize(input_text))\n",
    "    output_tokens = len(tokenizer.tokenize(output_text))\n",
    "    \n",
    "    ## Cutoff at 30000 tokens (~3 chars per token).\n",
    "    # if input_tokens > 30000:\n",
    "    #     input_text = input_text[:30000 * 3]\n",
    "    #     input_tokens = len(tokenizer.tokenize(input_text))\n",
    "    \n",
    "    ## Store.\n",
    "    token_lengths.append((input_tokens, output_tokens))\n",
    "    string_lengths.append((len(input_text), len(output_text)))\n",
    "    input_output_pairs.append((input_text, output_text, summary_text))"
   ],
   "metadata": {
    "collapsed": false,
    "ExecuteTime": {
     "end_time": "2023-09-11T04:17:38.066080Z",
     "start_time": "2023-09-11T04:16:53.243276Z"
    }
   },
   "id": "4fc2c92d51ddeb23"
  },
  {
   "cell_type": "code",
   "execution_count": 89,
   "outputs": [
    {
     "data": {
      "text/plain": "                                               input  \\\n0  Preprint.\\nALPAGASUS\\n:\\nTRAINING A BETTER ALP...   \n1  October 10, 2022\\nMIND’S EYE: GROUNDED LANGUAG...   \n2  Exploring the Intersection of Large Language M...   \n3   \\n1 \\n \\n \\nMachine Psychology: Investigating...   \n4  Interactive Fashion Content Generation Using L...   \n\n                                              output  \\\n0  {\\n    \"main_contribution\": {\\n        \"headli...   \n1  {\\n    \"main_contribution\": {\\n        \"headli...   \n2  {\\n    \"main_contribution\": \"{'headline': 'Exp...   \n3  {\\n    \"main_contribution\": {\\n        \"headli...   \n4  {\\n    \"main_contribution\": {\\n        \"headli...   \n\n                                             summary  \n0  Large language models~(LLMs) obtain instructio...  \n1  Successful and effective communication between...  \n2  The final frontier for simulation is the accur...  \n3  Large language models (LLMs) are currently at ...  \n4  Fashionable image generation aims to synthesiz...  ",
      "text/html": "<div>\n<style scoped>\n    .dataframe tbody tr th:only-of-type {\n        vertical-align: middle;\n    }\n\n    .dataframe tbody tr th {\n        vertical-align: top;\n    }\n\n    .dataframe thead th {\n        text-align: right;\n    }\n</style>\n<table border=\"1\" class=\"dataframe\">\n  <thead>\n    <tr style=\"text-align: right;\">\n      <th></th>\n      <th>input</th>\n      <th>output</th>\n      <th>summary</th>\n    </tr>\n  </thead>\n  <tbody>\n    <tr>\n      <th>0</th>\n      <td>Preprint.\\nALPAGASUS\\n:\\nTRAINING A BETTER ALP...</td>\n      <td>{\\n    \"main_contribution\": {\\n        \"headli...</td>\n      <td>Large language models~(LLMs) obtain instructio...</td>\n    </tr>\n    <tr>\n      <th>1</th>\n      <td>October 10, 2022\\nMIND’S EYE: GROUNDED LANGUAG...</td>\n      <td>{\\n    \"main_contribution\": {\\n        \"headli...</td>\n      <td>Successful and effective communication between...</td>\n    </tr>\n    <tr>\n      <th>2</th>\n      <td>Exploring the Intersection of Large Language M...</td>\n      <td>{\\n    \"main_contribution\": \"{'headline': 'Exp...</td>\n      <td>The final frontier for simulation is the accur...</td>\n    </tr>\n    <tr>\n      <th>3</th>\n      <td>\\n1 \\n \\n \\nMachine Psychology: Investigating...</td>\n      <td>{\\n    \"main_contribution\": {\\n        \"headli...</td>\n      <td>Large language models (LLMs) are currently at ...</td>\n    </tr>\n    <tr>\n      <th>4</th>\n      <td>Interactive Fashion Content Generation Using L...</td>\n      <td>{\\n    \"main_contribution\": {\\n        \"headli...</td>\n      <td>Fashionable image generation aims to synthesiz...</td>\n    </tr>\n  </tbody>\n</table>\n</div>"
     },
     "execution_count": 89,
     "metadata": {},
     "output_type": "execute_result"
    }
   ],
   "source": [
    "## As data framelet.\n",
    "df = pd.DataFrame(input_output_pairs, columns=[\"input\", \"output\", \"summary\"])\n",
    "df.head()"
   ],
   "metadata": {
    "collapsed": false,
    "ExecuteTime": {
     "end_time": "2023-09-11T04:22:01.888156Z",
     "start_time": "2023-09-11T04:22:01.870458Z"
    }
   },
   "id": "f7af4071dd1fcf8c"
  },
  {
   "cell_type": "code",
   "execution_count": 92,
   "outputs": [],
   "source": [
    "def generate_prompt(row):\n",
    "    \"\"\" Format intput and output into a prompt. \"\"\"\n",
    "    content = row[\"input\"]\n",
    "    summary = row[\"summary\"]\n",
    "    response = row[\"output\"]\n",
    "    prompt = f\"\"\"\n",
    "As an applied AI researcher specialized in the field of Large Language Models (LLMs), you are currently conducting a survey of the literature, building a catalogue of the main contributions and innovations of each paper, determining how they can be applied to build systems or create new products. This catalogue will be published by a prestigious organization and will serve as the foundation for all applied LLM knowledge going forward. Now, carefully read the following paper:\n",
    "\n",
    "{content}\n",
    "\n",
    "========================\n",
    "\n",
    "SUMMARY\n",
    "\n",
    "{summary}\n",
    "\n",
    "Upon completion, answer the following questions:\n",
    "\n",
    "1. What is the `main_contribution` of this paper? (1 line headline + 8-12 sentences)\n",
    "    - If a new algorithm or technique is introduced, describe its workings clearly and comprehensively.\n",
    "    - Do not assume that the reader knows terminology not part of the common AI/ML knowledge base.\n",
    "    - Ensure that your answer provides practical insights that offer a solid understanding of the paper.\n",
    "    - Detail the benefits or advantages of what has been presented, along with the practical implications for an LLM practitioner.\n",
    "    - Do not include anything already discussed in the summary or abstract.\n",
    "\n",
    "2. What is the main `takeaway`? (1 line headline + 8-12 sentences)\n",
    "    - Focusing on the paper's contributions, explain how they can be used to create an interesting LLM application, improve current workflows, or increase efficiency when working with LLMs.\n",
    "    - If different models were evaluated and their performance recorded, please note this and its practical implications (in detailed manner, i.e.: which model is best for what).\n",
    "    - Be very precise, practical and specific as possible. Eliminate any irrelevant content from the paper's applied perspective.\n",
    "    - If possible, provide a minimal code example or at least sketch the application.\n",
    "\n",
    "3. Which category best describes this paper's primary focus? Choose one from the following options, with \"OTHER\" being the least desirable choice.\n",
    "    a. \"TRAINING\": Discussions on LLM training methods, technical stack improvements, alternative training routines, etc.\n",
    "    b. \"FINE-TUNING\": Discussions on fine-tuning, re-training, and specialization of LLMs.\n",
    "    c. \"ARCHITECTURES\": Discussions on new LLM architectures, neural network components, etc., excluding prompting or computational systems to manage LLMs.\n",
    "    d. \"PROMPTING\": Discussions on prompting methods, agent architectures, etc.\n",
    "    e. \"USE CASES\": Discussions on LLM use in specific tasks, such as summarization, question answering, stock prediction, etc.\n",
    "    f. \"BEHAVIOR\": Discussions on LLM behavior, including probing, interpretability, risks, biases, emerging abilities, etc.\n",
    "    g. \"OTHER\": None of the above.\n",
    "\n",
    "4. On a scale from 1 to 3, how novel is this paper? (1: not novel, 2: incrementally novel, 3: very novel)\n",
    "    - Compare the paper's findings and contributions with what is presented in previous and related work. How unique and significant are the findings?\n",
    "    - Be strict and rigorous; few papers should receive a high score.\n",
    "    - Pay close attention to the comparison with prior work and the degree of difference in the author's contributions.\n",
    "\n",
    "5. On a scale from 1 to 3, how technical is this paper? (1: not technical, 2: somewhat technical, 3: very technical)\n",
    "    a) A very technical paper is difficult for a non-expert to understand, requires considerable technical knowledge, is filled with equations and jargon, and demands advanced mathematical knowledge.\n",
    "    b) A somewhat technical paper may be challenging for a layman but can be understood reasonably well by someone with a computer science background. These papers, while not overly complex, explain processes in great detail and are practical and applicable (can be replicated).\n",
    "    c) A non-technical paper is understandable for anyone with a college degree. These papers often discuss generalities, and the takeaways are more conceptual than technical.\n",
    "\n",
    "6. On a scale from 1 to 3, how enjoyable is this paper? (1: hard to read, 2: ok, 3: a delight)\n",
    "    a) A very enjoyable paper is well-written, organized, presents a novel and intriguing contribution, and is easy to read.\n",
    "    b) An 'ok' paper is primarily plain and unexciting but is easy to read and contains some interesting parts. Most papers\n",
    "    c) A non-enjoyable paper is difficult to read, poorly written, and lacks meaningful, practical, and insightful content.\n",
    "\n",
    "When assigning numerical ratings consider these guidelines:\n",
    "- Rating 3/3: Only about 20% of papers reach this standard.\n",
    "- Rating 2/3: Most papers (50%) fall into this category.\n",
    "- Rating 1/3: Around 30% of papers belong to this category.\n",
    "\n",
    "Do not repeat the same comments across different answers.\n",
    "\n",
    "Use the JSON format as in the following examples to respond.\n",
    "\n",
    "EXAMPLE 1\n",
    "==========\n",
    "```\n",
    "{{\n",
    "    \"main_contribution\": {{\n",
    "        \"headline\": \"Chain-of-Thought (CoT) boosts LLM accuracy in financial sentiment analysis\",\n",
    "    \"description\": \"The paper introduces the Chain-of-Thought (CoT) prompting technique for Large Language Models (LLMs) specifically targeting financial sentiment analysis. The core of CoT lies in its deviation from direct predictions. Instead, it guides the model to build a sequence of interconnected thoughts leading to an accurate sentiment score. In a comparative study, LLMs equipped with CoT achieved a 94% accuracy, surpassing the established FinBERT's 88% and the naive prompting model's 81%.\"\n",
    "    }},\n",
    "    \"takeaways\": {{\n",
    "        \"headline\": \"CoT opens new, efficient avenues for LLMs in financial analysis\",\n",
    "        \"description\": \"Using the CoT prompting technique, LLMs can achieve enhanced accuracy in financial news sentiment analysis, ultimately refining stock market predictions. This method not only improves prediction accuracy but also renders the model's thought process transparent. When pitted against FinBERT, the LLM with CoT demonstrated superior performance, signaling its potential dominance in financial analysis tasks.\",\n",
    "        \"example\": \"When processing a news snippet like 'Company X has strong Q3 earnings', an LLM with CoT could generate: 'Strong Q3 earnings -> Likely effective management -> Expected investor trust growth -> Potential bullish market -> Possible stock price ascent.' This layered output simplifies decision-making for market analysts.\"\n",
    "    }},\n",
    "    \"category\": \"USE CASES\",\n",
    "    \"novelty_analysis\": \"The paper extends the boundaries of current research by applying LLMs to financial news sentiment analysis. The introduction of the CoT prompting technique, tailored specifically for this application, represents an incremental advancement in the field.\",\n",
    "    \"novelty_score\": 2,\n",
    "    \"technical_analysis\": \"While the paper discusses a computational framework for managing LLM inputs and outputs, it does not delve into complex mathematical theories or algorithms, making it accessible to a wider audience.\",\n",
    "    \"technical_score\": 1,\n",
    "    \"enjoyable_analysis\": \"The engaging narrative style, coupled with practical insights, makes the paper an enjoyable read. It balances technical details with easily digestible information and an interesting practical application.\",\n",
    "    \"enjoyable_score\": 3\n",
    "}}\n",
    "```\n",
    "\n",
    "EXAMPLE 2\n",
    "==========\n",
    "```\n",
    "{{\n",
    "    \"main_contribution\": {{\n",
    "        \"headline\": \"Zero-shot Prompting Technique for GPT-4 Code Interpreter\",\n",
    "        \"description\": \"This paper proposes a zero-shot prompting technique for GPT-4 Code Interpreter that explicitly encourages the use of code for self-verification, which further boosts performance on math reasoning problems. They report a positive correlation between the better performance of GPT4-Code and the higher Code Usage Frequency. Initial experiments show that GPT4-Code achieved a zero-shot accuracy of 69.7% on the MATH dataset which is an improvement of 27.5% over GPT-4’s performance (42.2%).\"\n",
    "    }},\n",
    "    \"takeaways\": {{\n",
    "        \"headline\": \"Leveraging Self-verification and Code Execution in LLMs\",\n",
    "        \"description\": \"Self-verification is already a powerful approach to enhance the performance of LLMs on many tasks but this approach leverages the evaluation of code execution which could make it interesting to solve other kinds of problems. This work highlights the importance of code understanding and generation capabilities in LLMs.\",\n",
    "        \"example\": \"Some of the ideas presented in this paper (specifically, the code-based self-verification and verification-guided weighted majority voting technique) can lead to building high-quality datasets that could potentially help improve the mathematical capabilities in open-source LLMs like Llama 2.\"\n",
    "    }},\n",
    "    \"category\": \"PROMPTING\",\n",
    "    \"novelty_analysis\": \"The research innovatively combines LLMs with code-based self-verification, achieving a 20% boost over state-of-the-art coding task accuracies. This method's practicality is evident, with tests showing a 30% reduction in coding errors, redefining efficiency in LLM-driven code generation.\",\n",
    "    \"novelty_score\": 3,\n",
    "    \"technical_analysis\": \"The paper delve into advanced algorithms, such as the Hypothetical Code-Integration Algorithm (HCIA), making it a dense read for those unfamiliar with theoretical computer science. While the introduction of a novel concept is enlightening, the paper's reliance on complex algorithms, logical proofs and symbolic reasoning makes it a technically advanced read.\",\n",
    "    \"technical_score\": 3,\n",
    "    \"enjoyable_analysis\": \"For those deeply engrossed in the LLM landscape, this paper promises an engaging journey. While its technical nuances can be challenging, the clearly presented transformative results, such as the significant performance leap in the MATH dataset, ensure a gripping narrative.\",\n",
    "    \"enjoyable_score\": 2\n",
    "}}\n",
    "```\n",
    "\n",
    "EXAMPLE 3\n",
    "==========\n",
    "```\n",
    "{{\n",
    "    \"main_contribution\": {{\n",
    "        \"headline\": \"LLMManager: LLM-Driven Database Maintenance Knowledge Acquisition\",\n",
    "        \"description\": \"LLMManager leverages a retriever system paired with a LLM to extract database maintenance knowledge from diverse textual sources. It incorporates a hybrid mechanism that combines transformer-based models with traditional relational database algorithms. The framework's ability to parse vast amounts of text and convert them into actionable database maintenance tasks has led to notable metrics: a 47% increase in real-time database issue detection and a 32% improvement in automated problem resolution compared to existing SotA systems.\"\n",
    "    }},\n",
    "    \"takeaways\": {{\n",
    "        \"headline\": \"Leveraging 'Tree of Thought' Reasoning for Enhanced Maintenance\",\n",
    "        \"description\": \"LLMManager integration of the 'tree of thought' reasoning not only enhances root cause analysis but also creates a dynamic learning environment. Over time, LLMManager ability to revert to prior steps during anomalies becomes more refined, ensuring adaptive and evolving responses to complex database issues. Furthermore, its modular design allows for seamless integration with other LLMs, magnifying the collaborative aspect of the framework.\",\n",
    "        \"example\": \"Automating database maintenance with D-Bot can lead to significant reductions in downtime and costs. Developers could design LLM systems that proactively address issues even before they escalate, unlocking more efficient and streamlined database operations.\"\n",
    "    }},\n",
    "    \"category\": \"USE CASES\",\n",
    "    \"novelty_analysis\": \"D-Bot's utilization of the 'tree of thought' reasoning in database maintenance is novel, although a targeted application inspired by similar work on other engineering areas.\",\n",
    "    \"novelty_score\": 2,\n",
    "    \"technical_analysis\": \"The paper delves into Entity-Relationship Diagrams and database management algorithms essential to LLMManagers's operations. However, it manages to remain accessible, avoiding overly complex jargon and ensuring a broader audience comprehension.\",\n",
    "    \"technical_score\": 2,\n",
    "    \"enjoyable_analysis\": \"The work provides a balanced blend of technical details and real-world applications, giving insights into LLMManager's functions and potential impacts.\",\n",
    "    \"enjoyable_score\": 2\n",
    "}}\n",
    "```\n",
    "\n",
    "EXAMPLE 4\n",
    "==========\n",
    "{{\n",
    "    \"main_contribution\": {{\n",
    "        \"headline\": \"Performance Analysis of LLMs in Entity Recognition\",\n",
    "        \"description\": \"The paper undertakes a systematic comparison of four Large Language Models (LLMs) - GPT-4, Claude, GPT-3.5, and Prodisol-001 - with a focus on entity recognition. Each model was subjected to a consistent dataset, and their entity extraction capabilities were assessed based on precision, recall, and F1 score. Results highlighted that GPT-4 outperformed the other models, with Claude closely following, and GPT-3.5 and Prodisol-001 trailing behind. This comparative study offers insights into the current capabilities of prominent LLMs in the domain of entity recognition.\"\n",
    "    }},\n",
    "    \"takeaways\": {{\n",
    "        \"headline\": \"Entity Recognition Capabilities Vary Across LLMs\",\n",
    "        \"description\": \"The paper underscores variations in the performance of different LLMs when tasked with entity recognition. The presented findings provide a benchmark for professionals and researchers aiming to choose an LLM for entity recognition tasks. The nuanced comparison suggests that while GPT-4 exhibits top-tier performance in this domain, other models like Claude also present strong capabilities.\",\n",
    "        \"example\": \"When parsing a complex news article about the merger between two tech giants, it becomes crucial to accurately recognize and categorize entities such as company names, CEOs, financial figures, and locations. An LLM with superior entity recognition, in such a context, aids in extracting critical data points efficiently, enabling a more thorough analysis of the situation.\"\n",
    "    }},\n",
    "    \"category\": \"USE CASES\",\n",
    "    \"novelty_analysis\": \"The study contributes to existing literature by offering a contemporary comparison of the latest LLMs in entity recognition. While the task itself isn't novel, the inclusion of GPT-4 and Claude in the comparison introduces an incremental advancement to the current body of research.\",\n",
    "    \"novelty_score\": 2,\n",
    "    \"technical_analysis\": \"The paper balances technical depth with accessibility, providing a detailed outline of evaluation metrics and methodologies. This ensures insights are communicated comprehensively, catering to both technical and non-technical readers.\",\n",
    "    \"technical_score\": 2,\n",
    "    \"enjoyable_analysis\": \"Through its well-structured approach and clear visualizations, the paper facilitates an engaging read. The methodical presentation of results aids in drawing comparisons and understanding the landscape of LLMs in entity recognition.\",\n",
    "    \"enjoyable_score\": 2\n",
    "}}\n",
    "```\n",
    "\n",
    "YOUR TURN\n",
    "==========\n",
    "\n",
    "{response}\n",
    "\"\"\"\n",
    "    return prompt"
   ],
   "metadata": {
    "collapsed": false,
    "ExecuteTime": {
     "end_time": "2023-09-11T04:22:14.993550Z",
     "start_time": "2023-09-11T04:22:14.981460Z"
    }
   },
   "id": "ad569ab51e6495bf"
  },
  {
   "cell_type": "code",
   "execution_count": 100,
   "outputs": [
    {
     "data": {
      "text/plain": "Generating train split: 0 examples [00:00, ? examples/s]",
      "application/vnd.jupyter.widget-view+json": {
       "version_major": 2,
       "version_minor": 0,
       "model_id": "1649de65ec7d4df9bf9c156f33c73e14"
      }
     },
     "metadata": {},
     "output_type": "display_data"
    }
   ],
   "source": [
    "def gen_dataset():\n",
    "    for _, row in df.iterrows():\n",
    "        yield {\"text\": generate_prompt(row)}\n",
    "        \n",
    "ds = Dataset.from_generator(gen_dataset)\n",
    "ds.save_to_disk(\"data/arxiv_summary_prompts\")"
   ],
   "metadata": {
    "collapsed": false,
    "ExecuteTime": {
     "end_time": "2023-09-11T04:41:29.565998Z",
     "start_time": "2023-09-11T04:41:29.270216Z"
    }
   },
   "id": "792c4d5e30cfed90"
  }
 ],
 "metadata": {
  "kernelspec": {
   "display_name": "Python 3",
   "language": "python",
   "name": "python3"
  },
  "language_info": {
   "codemirror_mode": {
    "name": "ipython",
    "version": 2
   },
   "file_extension": ".py",
   "mimetype": "text/x-python",
   "name": "python",
   "nbconvert_exporter": "python",
   "pygments_lexer": "ipython2",
   "version": "2.7.6"
  }
 },
 "nbformat": 4,
 "nbformat_minor": 5
}
